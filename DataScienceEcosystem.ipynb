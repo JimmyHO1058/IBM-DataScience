{
 "cells": [
  {
   "cell_type": "markdown",
   "id": "81cb6987-9423-4846-ab24-8941f4fc1ba8",
   "metadata": {},
   "source": [
    "# Data Science Tools and Ecosystem"
   ]
  },
  {
   "cell_type": "markdown",
   "id": "327504e3-581d-4136-a92f-71969d4103be",
   "metadata": {},
   "source": [
    "# Introduction\n",
    "\n",
    "In this notebook, we provide an overview of Data Science Tools and Ecosystem, highlighting their features and applications."
   ]
  },
  {
   "cell_type": "markdown",
   "id": "b971a143-94df-4843-8576-ec90342771ad",
   "metadata": {},
   "source": [
    "**Objectives:**\n",
    "\n",
    "- List popular languages for Data Science.\n",
    "- Identify commonly used libraries in Data Science.\n",
    "- Highlight development environment tools for Data Science.\n",
    "- Provide examples of evaluating arithmetic expressions in Python.\n",
    "- Demonstrate how to convert minutes to hours using Python.\n"
   ]
  },
  {
   "cell_type": "markdown",
   "id": "e69b1550-68fc-4d9f-9984-716f69b67d30",
   "metadata": {},
   "source": [
    "# Data Science Languages\n",
    "\n",
    "Some of the popular languages that Data Scientists use are:\n",
    "\n",
    "1. Python\n",
    "2. R\n",
    "3. SQL\n",
    "4. Julia\n",
    "5. Java"
   ]
  },
  {
   "cell_type": "markdown",
   "id": "c99877a0-d0ed-4c9f-b080-169a43c29218",
   "metadata": {},
   "source": [
    "# Data Science Libraries\n",
    "\n",
    "Some of the commonly used libraries used by Data Scientists include:\n",
    "\n",
    "1. NumPy\n",
    "2. Pandas\n",
    "3. Matplotlib\n",
    "4. Scikit-learn\n",
    "5. TensorFlow\n",
    "6. PyTorch"
   ]
  },
  {
   "cell_type": "code",
   "execution_count": null,
   "id": "fa223796-b8ae-455a-b4c3-00e3dcb2d7d9",
   "metadata": {},
   "outputs": [],
   "source": [
    "### Below are a few examples of evaluating arithmetic expressions in Python.\n",
    "\n",
    "1. Addition: `3 + 5` evaluates to `8`\n",
    "2. Subtraction: `10 - 4` evaluates to `6`\n",
    "3. Multiplication: `7 * 6` evaluates to `42`\n",
    "4. Division: `20 / 5` evaluates to `4.0`\n",
    "5. Exponentiation: `2 ** 3` evaluates to `8`\n",
    "6. Modulus: `10 % 3` evaluates to `1`"
   ]
  },
  {
   "cell_type": "markdown",
   "id": "e71580a5-7eea-4820-9632-b9fb94462da9",
   "metadata": {},
   "source": [
    "# Data Science Tools\n",
    "\n",
    "| Data Science Tools         |\n",
    "|----------------------------|\n",
    "|Jupyter Notebook            |\n",
    "|RStudio                     |\n",
    "|Apache Zeepelin             |\n"
   ]
  },
  {
   "cell_type": "markdown",
   "id": "89377c04-2ee9-40dc-bcdf-3f296ae8d31d",
   "metadata": {},
   "source": [
    "### Below are a few examples of evaluating arithmetic expressions in Python.\n",
    "\n",
    "1. Addition: `3 + 5` evaluates to `8`\n",
    "2. Subtraction: `10 - 4` evaluates to `6`\n",
    "3. Multiplication: `7 * 6` evaluates to `42`\n",
    "4. Division: `20 / 5` evaluates to `4.0`\n",
    "5. Exponentiation: `2 ** 3` evaluates to `8`\n",
    "6. Modulus: `10 % 3` evaluates to `1`\n"
   ]
  },
  {
   "cell_type": "code",
   "execution_count": 2,
   "id": "6d15c31e-7736-4ea6-8ca9-96d8fd4f266c",
   "metadata": {},
   "outputs": [
    {
     "data": {
      "text/plain": [
       "17"
      ]
     },
     "execution_count": 2,
     "metadata": {},
     "output_type": "execute_result"
    }
   ],
   "source": [
    "#This a simple arithmetic expression to mutiply then add integers\n",
    "(3*4)+5"
   ]
  },
  {
   "cell_type": "code",
   "execution_count": 4,
   "id": "381f2a5c-36ca-42c6-9a05-2fdb94395b54",
   "metadata": {},
   "outputs": [
    {
     "data": {
      "text/plain": [
       "3.3333333333333335"
      ]
     },
     "execution_count": 4,
     "metadata": {},
     "output_type": "execute_result"
    }
   ],
   "source": [
    "#This will convert 200 minutes to hours by diving by 60\n",
    "200 / 60"
   ]
  },
  {
   "cell_type": "markdown",
   "id": "a9fcdd06-b6af-42fe-b9b0-68c0634e7563",
   "metadata": {},
   "source": [
    "## Author\n",
    "\n",
    "- HO WENG IN\n"
   ]
  },
  {
   "cell_type": "code",
   "execution_count": null,
   "id": "6a1702fd-e01f-4f12-ae58-4c6aa9921a1d",
   "metadata": {},
   "outputs": [],
   "source": []
  },
  {
   "cell_type": "code",
   "execution_count": null,
   "id": "555d7c6e-7c40-4b1e-b237-9146c81c81ce",
   "metadata": {},
   "outputs": [],
   "source": []
  }
 ],
 "metadata": {
  "kernelspec": {
   "display_name": "Python 3 (ipykernel)",
   "language": "python",
   "name": "python3"
  },
  "language_info": {
   "codemirror_mode": {
    "name": "ipython",
    "version": 3
   },
   "file_extension": ".py",
   "mimetype": "text/x-python",
   "name": "python",
   "nbconvert_exporter": "python",
   "pygments_lexer": "ipython3",
   "version": "3.11.9"
  }
 },
 "nbformat": 4,
 "nbformat_minor": 5
}
